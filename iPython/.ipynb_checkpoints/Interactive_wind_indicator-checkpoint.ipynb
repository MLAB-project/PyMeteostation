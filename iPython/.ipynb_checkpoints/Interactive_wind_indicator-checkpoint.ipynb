{
 "metadata": {
  "name": "",
  "signature": "sha256:4659133d0dd4c6c604546173c11c52ae02ab7a342e599edd9795cba6194da218"
 },
 "nbformat": 3,
 "nbformat_minor": 0,
 "worksheets": []
}